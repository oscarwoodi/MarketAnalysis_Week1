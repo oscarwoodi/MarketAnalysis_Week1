{
 "cells": [
  {
   "cell_type": "code",
   "execution_count": 1,
   "id": "690d1d52",
   "metadata": {},
   "outputs": [],
   "source": [
    "import numpy as np\n",
    "import pandas as pd \n",
    "import matplotlib as plt\n",
    "import time\n",
    "from datetime import datetime\n",
    "import requests\n",
    "import json"
   ]
  },
  {
   "cell_type": "code",
   "execution_count": 3,
   "id": "78bad81d",
   "metadata": {},
   "outputs": [],
   "source": [
    "def get_data(symbol, timeframe):\n",
    "    # query data\n",
    "    base = 'https://fapi.binance.com'\n",
    "    endpoint = '/fapi/v1/klines'\n",
    "    params = '?&symbol='+f'{symbol}USDT'+f'&interval={timeframe}'\n",
    "    \n",
    "    url = base + endpoint + params\n",
    "\n",
    "    # download data\n",
    "    data = requests.get(url)\n",
    "    #print(data)\n",
    "    dictionary = json.loads(data.text)\n",
    "\n",
    "    # put in dataframe and clean-up\n",
    "    df = pd.DataFrame.from_dict(dictionary)\n",
    "    df = df.drop(range(6, 12), axis=1)\n",
    "\n",
    "    # rename columns\n",
    "    col_names = ['time', 'open', 'high', 'low', 'close', 'volume']\n",
    "    df.columns = col_names\n",
    "\n",
    "    df['open'] = pd.to_numeric(df[\"open\"], downcast=\"float\")\n",
    "    df['high'] = pd.to_numeric(df[\"high\"], downcast=\"float\")\n",
    "    df['low'] = pd.to_numeric(df[\"low\"], downcast=\"float\")\n",
    "    df['close'] = pd.to_numeric(df[\"close\"], downcast=\"float\")\n",
    "\n",
    "\n",
    "    df['time'] = pd.to_datetime(df['time'], unit='ms')\n",
    "    df.reset_index(inplace=True)\n",
    "\n",
    "    last_index = len(df['open'])-1\n",
    "\n",
    "    return(df, last_index)"
   ]
  },
  {
   "cell_type": "code",
   "execution_count": 4,
   "id": "f73d85d6",
   "metadata": {},
   "outputs": [],
   "source": [
    "timeframe = '15m'\n",
    "data, last_index = get_data('ETH', timeframe)"
   ]
  },
  {
   "cell_type": "code",
   "execution_count": 9,
   "id": "3b62f1d3",
   "metadata": {},
   "outputs": [
    {
     "data": {
      "text/plain": [
       "500"
      ]
     },
     "execution_count": 9,
     "metadata": {},
     "output_type": "execute_result"
    }
   ],
   "source": [
    "data.head()\n",
    "data.index.size"
   ]
  },
  {
   "cell_type": "code",
   "execution_count": null,
   "id": "a4b0d6a8",
   "metadata": {},
   "outputs": [],
   "source": [
    "#Visualise the data\n",
    "plt.figure(figsize=(20, 10))\n",
    "plt.plot(data.time,data.open, label='Profit/Loss')\n",
    "plt.title('ETH (Last 500 entries) ('+timeframe+')')\n",
    "plt.xlabel('Las')\n",
    "plt.ylabel('Account Value Percentage Change')\n",
    "plt.legend(loc='upper left')\n",
    "plt.show()"
   ]
  }
 ],
 "metadata": {
  "kernelspec": {
   "display_name": "Python 3 (ipykernel)",
   "language": "python",
   "name": "python3"
  },
  "language_info": {
   "codemirror_mode": {
    "name": "ipython",
    "version": 3
   },
   "file_extension": ".py",
   "mimetype": "text/x-python",
   "name": "python",
   "nbconvert_exporter": "python",
   "pygments_lexer": "ipython3",
   "version": "3.8.6"
  }
 },
 "nbformat": 4,
 "nbformat_minor": 5
}
